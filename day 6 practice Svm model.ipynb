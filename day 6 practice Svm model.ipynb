{
 "cells": [
  {
   "cell_type": "code",
   "execution_count": 2,
   "id": "1d03e2eb-f124-46c9-a32c-afc431e512d5",
   "metadata": {},
   "outputs": [
    {
     "name": "stdout",
     "output_type": "stream",
     "text": [
      "Linear Kernel Accuracy: 0.95\n",
      "Polynomial Kernel Accuracy: 0.9\n"
     ]
    }
   ],
   "source": [
    "# Import necessary libraries\n",
    "from sklearn import svm\n",
    "from sklearn.datasets import make_classification\n",
    "from sklearn.model_selection import train_test_split\n",
    "from sklearn.metrics import accuracy_score\n",
    "\n",
    "# Generate synthetic classification data\n",
    "X, y = make_classification(n_samples=100, n_features=2, n_informative=2,\n",
    "                           n_redundant=0, random_state=42)\n",
    "\n",
    "# Split the data into training and test sets\n",
    "X_train, X_test, y_train, y_test = train_test_split(X, y, test_size=0.2, random_state=42)\n",
    "\n",
    "# Linear Kernel\n",
    "linear_svc = svm.SVC(kernel='linear')\n",
    "linear_svc.fit(X_train, y_train)\n",
    "linear_predictions = linear_svc.predict(X_test)\n",
    "linear_accuracy = accuracy_score(y_test, linear_predictions)\n",
    "print(\"Linear Kernel Accuracy:\", linear_accuracy)\n",
    "\n",
    "# Polynomial Kernel\n",
    "poly_svc = svm.SVC(kernel='poly', degree=3)  # degree = 3 ==> x**0 + x**1 + x**2 ==> 1 + x + x**2\n",
    "poly_svc.fit(X_train, y_train)\n",
    "poly_predictions = poly_svc.predict(X_test)\n",
    "poly_accuracy = accuracy_score(y_test, poly_predictions)\n",
    "print(\"Polynomial Kernel Accuracy:\", poly_accuracy)"
   ]
  },
  {
   "cell_type": "code",
   "execution_count": null,
   "id": "1e894280-62a9-4c02-9e71-97653460f3ea",
   "metadata": {},
   "outputs": [],
   "source": []
  }
 ],
 "metadata": {
  "kernelspec": {
   "display_name": "Python 3 (ipykernel)",
   "language": "python",
   "name": "python3"
  },
  "language_info": {
   "codemirror_mode": {
    "name": "ipython",
    "version": 3
   },
   "file_extension": ".py",
   "mimetype": "text/x-python",
   "name": "python",
   "nbconvert_exporter": "python",
   "pygments_lexer": "ipython3",
   "version": "3.10.11"
  }
 },
 "nbformat": 4,
 "nbformat_minor": 5
}
