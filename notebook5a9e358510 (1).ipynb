{
 "cells": [
  {
   "cell_type": "code",
   "execution_count": 1,
   "id": "5dde22c4",
   "metadata": {
    "_cell_guid": "b1076dfc-b9ad-4769-8c92-a6c4dae69d19",
    "_uuid": "8f2839f25d086af736a60e9eeb907d3b93b6e0e5",
    "execution": {
     "iopub.execute_input": "2025-08-04T03:26:41.859052Z",
     "iopub.status.busy": "2025-08-04T03:26:41.858728Z",
     "iopub.status.idle": "2025-08-04T03:26:41.864152Z",
     "shell.execute_reply": "2025-08-04T03:26:41.863425Z"
    },
    "papermill": {
     "duration": 0.014739,
     "end_time": "2025-08-04T03:26:41.865624",
     "exception": false,
     "start_time": "2025-08-04T03:26:41.850885",
     "status": "completed"
    },
    "tags": []
   },
   "outputs": [],
   "source": [
    "# # This Python 3 environment comes with many helpful analytics libraries installed\n",
    "# # It is defined by the kaggle/python Docker image: https://github.com/kaggle/docker-python\n",
    "# # For example, here's several helpful packages to load\n",
    "\n",
    "# import numpy as np # linear algebra\n",
    "# import pandas as pd # data processing, CSV file I/O (e.g. pd.read_csv)\n",
    "\n",
    "# # Input data files are available in the read-only \"../input/\" directory\n",
    "# # For example, running this (by clicking run or pressing Shift+Enter) will list all files under the input directory\n",
    "\n",
    "# import os\n",
    "# for dirname, _, filenames in os.walk('/kaggle/input'):\n",
    "#     for filename in filenames:\n",
    "#         print(os.path.join(dirname, filename))\n",
    "\n",
    "# # You can write up to 20GB to the current directory (/kaggle/working/) that gets preserved as output when you create a version using \"Save & Run All\" \n",
    "# # You can also write temporary files to /kaggle/temp/, but they won't be saved outside of the current session"
   ]
  },
  {
   "cell_type": "code",
   "execution_count": 2,
   "id": "721cb7ef",
   "metadata": {
    "execution": {
     "iopub.execute_input": "2025-08-04T03:26:41.878731Z",
     "iopub.status.busy": "2025-08-04T03:26:41.878431Z",
     "iopub.status.idle": "2025-08-04T03:26:41.885775Z",
     "shell.execute_reply": "2025-08-04T03:26:41.884947Z"
    },
    "papermill": {
     "duration": 0.015408,
     "end_time": "2025-08-04T03:26:41.887256",
     "exception": false,
     "start_time": "2025-08-04T03:26:41.871848",
     "status": "completed"
    },
    "tags": []
   },
   "outputs": [],
   "source": [
    "import numpy as np"
   ]
  },
  {
   "cell_type": "code",
   "execution_count": 3,
   "id": "6a2d173d",
   "metadata": {
    "execution": {
     "iopub.execute_input": "2025-08-04T03:26:41.900782Z",
     "iopub.status.busy": "2025-08-04T03:26:41.900436Z",
     "iopub.status.idle": "2025-08-04T03:26:43.910941Z",
     "shell.execute_reply": "2025-08-04T03:26:43.909860Z"
    },
    "papermill": {
     "duration": 2.019724,
     "end_time": "2025-08-04T03:26:43.912850",
     "exception": false,
     "start_time": "2025-08-04T03:26:41.893126",
     "status": "completed"
    },
    "tags": []
   },
   "outputs": [],
   "source": [
    "import pandas as pd"
   ]
  },
  {
   "cell_type": "code",
   "execution_count": 4,
   "id": "d03ab1b5",
   "metadata": {
    "execution": {
     "iopub.execute_input": "2025-08-04T03:26:43.925958Z",
     "iopub.status.busy": "2025-08-04T03:26:43.925433Z",
     "iopub.status.idle": "2025-08-04T03:26:43.950669Z",
     "shell.execute_reply": "2025-08-04T03:26:43.949706Z"
    },
    "papermill": {
     "duration": 0.033484,
     "end_time": "2025-08-04T03:26:43.952398",
     "exception": false,
     "start_time": "2025-08-04T03:26:43.918914",
     "status": "completed"
    },
    "tags": []
   },
   "outputs": [],
   "source": [
    "df = pd.read_csv(\"/kaggle/input/social-network/Social_Network_Ads.csv\")"
   ]
  },
  {
   "cell_type": "code",
   "execution_count": 5,
   "id": "f1f9057e",
   "metadata": {
    "execution": {
     "iopub.execute_input": "2025-08-04T03:26:43.964985Z",
     "iopub.status.busy": "2025-08-04T03:26:43.964621Z",
     "iopub.status.idle": "2025-08-04T03:26:43.992180Z",
     "shell.execute_reply": "2025-08-04T03:26:43.990896Z"
    },
    "papermill": {
     "duration": 0.03572,
     "end_time": "2025-08-04T03:26:43.993857",
     "exception": false,
     "start_time": "2025-08-04T03:26:43.958137",
     "status": "completed"
    },
    "tags": []
   },
   "outputs": [
    {
     "data": {
      "text/html": [
       "<div>\n",
       "<style scoped>\n",
       "    .dataframe tbody tr th:only-of-type {\n",
       "        vertical-align: middle;\n",
       "    }\n",
       "\n",
       "    .dataframe tbody tr th {\n",
       "        vertical-align: top;\n",
       "    }\n",
       "\n",
       "    .dataframe thead th {\n",
       "        text-align: right;\n",
       "    }\n",
       "</style>\n",
       "<table border=\"1\" class=\"dataframe\">\n",
       "  <thead>\n",
       "    <tr style=\"text-align: right;\">\n",
       "      <th></th>\n",
       "      <th>User ID</th>\n",
       "      <th>Gender</th>\n",
       "      <th>Age</th>\n",
       "      <th>EstimatedSalary</th>\n",
       "      <th>Purchased</th>\n",
       "    </tr>\n",
       "  </thead>\n",
       "  <tbody>\n",
       "    <tr>\n",
       "      <th>0</th>\n",
       "      <td>15624510</td>\n",
       "      <td>Male</td>\n",
       "      <td>19</td>\n",
       "      <td>19000</td>\n",
       "      <td>0</td>\n",
       "    </tr>\n",
       "    <tr>\n",
       "      <th>1</th>\n",
       "      <td>15810944</td>\n",
       "      <td>Male</td>\n",
       "      <td>35</td>\n",
       "      <td>20000</td>\n",
       "      <td>0</td>\n",
       "    </tr>\n",
       "    <tr>\n",
       "      <th>2</th>\n",
       "      <td>15668575</td>\n",
       "      <td>Female</td>\n",
       "      <td>26</td>\n",
       "      <td>43000</td>\n",
       "      <td>0</td>\n",
       "    </tr>\n",
       "    <tr>\n",
       "      <th>3</th>\n",
       "      <td>15603246</td>\n",
       "      <td>Female</td>\n",
       "      <td>27</td>\n",
       "      <td>57000</td>\n",
       "      <td>0</td>\n",
       "    </tr>\n",
       "    <tr>\n",
       "      <th>4</th>\n",
       "      <td>15804002</td>\n",
       "      <td>Male</td>\n",
       "      <td>19</td>\n",
       "      <td>76000</td>\n",
       "      <td>0</td>\n",
       "    </tr>\n",
       "  </tbody>\n",
       "</table>\n",
       "</div>"
      ],
      "text/plain": [
       "    User ID  Gender  Age  EstimatedSalary  Purchased\n",
       "0  15624510    Male   19            19000          0\n",
       "1  15810944    Male   35            20000          0\n",
       "2  15668575  Female   26            43000          0\n",
       "3  15603246  Female   27            57000          0\n",
       "4  15804002    Male   19            76000          0"
      ]
     },
     "execution_count": 5,
     "metadata": {},
     "output_type": "execute_result"
    }
   ],
   "source": [
    "df.head()"
   ]
  },
  {
   "cell_type": "code",
   "execution_count": 6,
   "id": "e96e7e07",
   "metadata": {
    "execution": {
     "iopub.execute_input": "2025-08-04T03:26:44.008448Z",
     "iopub.status.busy": "2025-08-04T03:26:44.007270Z",
     "iopub.status.idle": "2025-08-04T03:26:44.012346Z",
     "shell.execute_reply": "2025-08-04T03:26:44.011386Z"
    },
    "papermill": {
     "duration": 0.014174,
     "end_time": "2025-08-04T03:26:44.014151",
     "exception": false,
     "start_time": "2025-08-04T03:26:43.999977",
     "status": "completed"
    },
    "tags": []
   },
   "outputs": [],
   "source": [
    "#df.isnull().sum()"
   ]
  },
  {
   "cell_type": "code",
   "execution_count": 7,
   "id": "70200c69",
   "metadata": {
    "execution": {
     "iopub.execute_input": "2025-08-04T03:26:44.028115Z",
     "iopub.status.busy": "2025-08-04T03:26:44.027847Z",
     "iopub.status.idle": "2025-08-04T03:26:45.694401Z",
     "shell.execute_reply": "2025-08-04T03:26:45.693074Z"
    },
    "papermill": {
     "duration": 1.675321,
     "end_time": "2025-08-04T03:26:45.696439",
     "exception": false,
     "start_time": "2025-08-04T03:26:44.021118",
     "status": "completed"
    },
    "tags": []
   },
   "outputs": [],
   "source": [
    "from sklearn.preprocessing import LabelEncoder"
   ]
  },
  {
   "cell_type": "code",
   "execution_count": 8,
   "id": "2cedd29b",
   "metadata": {
    "execution": {
     "iopub.execute_input": "2025-08-04T03:26:45.710747Z",
     "iopub.status.busy": "2025-08-04T03:26:45.709931Z",
     "iopub.status.idle": "2025-08-04T03:26:45.715025Z",
     "shell.execute_reply": "2025-08-04T03:26:45.713843Z"
    },
    "papermill": {
     "duration": 0.013911,
     "end_time": "2025-08-04T03:26:45.717094",
     "exception": false,
     "start_time": "2025-08-04T03:26:45.703183",
     "status": "completed"
    },
    "tags": []
   },
   "outputs": [],
   "source": [
    "lb = LabelEncoder()"
   ]
  },
  {
   "cell_type": "code",
   "execution_count": 9,
   "id": "db5b873c",
   "metadata": {
    "execution": {
     "iopub.execute_input": "2025-08-04T03:26:45.730311Z",
     "iopub.status.busy": "2025-08-04T03:26:45.729989Z",
     "iopub.status.idle": "2025-08-04T03:26:45.736957Z",
     "shell.execute_reply": "2025-08-04T03:26:45.735936Z"
    },
    "papermill": {
     "duration": 0.015752,
     "end_time": "2025-08-04T03:26:45.738963",
     "exception": false,
     "start_time": "2025-08-04T03:26:45.723211",
     "status": "completed"
    },
    "tags": []
   },
   "outputs": [],
   "source": [
    "df['Gender'] = lb.fit_transform(df['Gender'])"
   ]
  },
  {
   "cell_type": "code",
   "execution_count": 10,
   "id": "ed9d2747",
   "metadata": {
    "execution": {
     "iopub.execute_input": "2025-08-04T03:26:45.752908Z",
     "iopub.status.busy": "2025-08-04T03:26:45.752515Z",
     "iopub.status.idle": "2025-08-04T03:26:45.762255Z",
     "shell.execute_reply": "2025-08-04T03:26:45.761035Z"
    },
    "papermill": {
     "duration": 0.018389,
     "end_time": "2025-08-04T03:26:45.764148",
     "exception": false,
     "start_time": "2025-08-04T03:26:45.745759",
     "status": "completed"
    },
    "tags": []
   },
   "outputs": [
    {
     "data": {
      "text/html": [
       "<div>\n",
       "<style scoped>\n",
       "    .dataframe tbody tr th:only-of-type {\n",
       "        vertical-align: middle;\n",
       "    }\n",
       "\n",
       "    .dataframe tbody tr th {\n",
       "        vertical-align: top;\n",
       "    }\n",
       "\n",
       "    .dataframe thead th {\n",
       "        text-align: right;\n",
       "    }\n",
       "</style>\n",
       "<table border=\"1\" class=\"dataframe\">\n",
       "  <thead>\n",
       "    <tr style=\"text-align: right;\">\n",
       "      <th></th>\n",
       "      <th>User ID</th>\n",
       "      <th>Gender</th>\n",
       "      <th>Age</th>\n",
       "      <th>EstimatedSalary</th>\n",
       "      <th>Purchased</th>\n",
       "    </tr>\n",
       "  </thead>\n",
       "  <tbody>\n",
       "    <tr>\n",
       "      <th>0</th>\n",
       "      <td>15624510</td>\n",
       "      <td>1</td>\n",
       "      <td>19</td>\n",
       "      <td>19000</td>\n",
       "      <td>0</td>\n",
       "    </tr>\n",
       "  </tbody>\n",
       "</table>\n",
       "</div>"
      ],
      "text/plain": [
       "    User ID  Gender  Age  EstimatedSalary  Purchased\n",
       "0  15624510       1   19            19000          0"
      ]
     },
     "execution_count": 10,
     "metadata": {},
     "output_type": "execute_result"
    }
   ],
   "source": [
    "df.head(1)"
   ]
  },
  {
   "cell_type": "code",
   "execution_count": 11,
   "id": "a80e1a7d",
   "metadata": {
    "execution": {
     "iopub.execute_input": "2025-08-04T03:26:45.777977Z",
     "iopub.status.busy": "2025-08-04T03:26:45.777593Z",
     "iopub.status.idle": "2025-08-04T03:26:45.788821Z",
     "shell.execute_reply": "2025-08-04T03:26:45.787733Z"
    },
    "papermill": {
     "duration": 0.019689,
     "end_time": "2025-08-04T03:26:45.790554",
     "exception": false,
     "start_time": "2025-08-04T03:26:45.770865",
     "status": "completed"
    },
    "tags": []
   },
   "outputs": [],
   "source": [
    "x = df.drop(columns = ['Gender'])\n",
    "y = df['Gender']"
   ]
  },
  {
   "cell_type": "code",
   "execution_count": 12,
   "id": "14f9ee16",
   "metadata": {
    "execution": {
     "iopub.execute_input": "2025-08-04T03:26:45.803213Z",
     "iopub.status.busy": "2025-08-04T03:26:45.802928Z",
     "iopub.status.idle": "2025-08-04T03:26:45.935708Z",
     "shell.execute_reply": "2025-08-04T03:26:45.934810Z"
    },
    "papermill": {
     "duration": 0.141143,
     "end_time": "2025-08-04T03:26:45.937404",
     "exception": false,
     "start_time": "2025-08-04T03:26:45.796261",
     "status": "completed"
    },
    "tags": []
   },
   "outputs": [],
   "source": [
    "from sklearn.model_selection import train_test_split"
   ]
  },
  {
   "cell_type": "code",
   "execution_count": 13,
   "id": "7aa8ed02",
   "metadata": {
    "execution": {
     "iopub.execute_input": "2025-08-04T03:26:45.951047Z",
     "iopub.status.busy": "2025-08-04T03:26:45.950735Z",
     "iopub.status.idle": "2025-08-04T03:26:45.960546Z",
     "shell.execute_reply": "2025-08-04T03:26:45.959468Z"
    },
    "papermill": {
     "duration": 0.018512,
     "end_time": "2025-08-04T03:26:45.962216",
     "exception": false,
     "start_time": "2025-08-04T03:26:45.943704",
     "status": "completed"
    },
    "tags": []
   },
   "outputs": [],
   "source": [
    "x_train , x_test , y_train, y_test = train_test_split(x,y,test_size = 0.2 , random_state = 44)"
   ]
  },
  {
   "cell_type": "code",
   "execution_count": 14,
   "id": "50766764",
   "metadata": {
    "execution": {
     "iopub.execute_input": "2025-08-04T03:26:45.975143Z",
     "iopub.status.busy": "2025-08-04T03:26:45.974862Z",
     "iopub.status.idle": "2025-08-04T03:26:46.089794Z",
     "shell.execute_reply": "2025-08-04T03:26:46.088763Z"
    },
    "papermill": {
     "duration": 0.123672,
     "end_time": "2025-08-04T03:26:46.091823",
     "exception": false,
     "start_time": "2025-08-04T03:26:45.968151",
     "status": "completed"
    },
    "tags": []
   },
   "outputs": [],
   "source": [
    "from sklearn.linear_model import LogisticRegression"
   ]
  },
  {
   "cell_type": "code",
   "execution_count": 15,
   "id": "0da5582d",
   "metadata": {
    "execution": {
     "iopub.execute_input": "2025-08-04T03:26:46.105532Z",
     "iopub.status.busy": "2025-08-04T03:26:46.105174Z",
     "iopub.status.idle": "2025-08-04T03:26:46.111005Z",
     "shell.execute_reply": "2025-08-04T03:26:46.109867Z"
    },
    "papermill": {
     "duration": 0.015221,
     "end_time": "2025-08-04T03:26:46.113309",
     "exception": false,
     "start_time": "2025-08-04T03:26:46.098088",
     "status": "completed"
    },
    "tags": []
   },
   "outputs": [],
   "source": [
    "lr = LogisticRegression()"
   ]
  },
  {
   "cell_type": "code",
   "execution_count": 16,
   "id": "a5844118",
   "metadata": {
    "execution": {
     "iopub.execute_input": "2025-08-04T03:26:46.127480Z",
     "iopub.status.busy": "2025-08-04T03:26:46.127133Z",
     "iopub.status.idle": "2025-08-04T03:26:46.192996Z",
     "shell.execute_reply": "2025-08-04T03:26:46.192132Z"
    },
    "papermill": {
     "duration": 0.074704,
     "end_time": "2025-08-04T03:26:46.194870",
     "exception": false,
     "start_time": "2025-08-04T03:26:46.120166",
     "status": "completed"
    },
    "tags": []
   },
   "outputs": [
    {
     "data": {
      "text/html": [
       "<style>#sk-container-id-1 {color: black;background-color: white;}#sk-container-id-1 pre{padding: 0;}#sk-container-id-1 div.sk-toggleable {background-color: white;}#sk-container-id-1 label.sk-toggleable__label {cursor: pointer;display: block;width: 100%;margin-bottom: 0;padding: 0.3em;box-sizing: border-box;text-align: center;}#sk-container-id-1 label.sk-toggleable__label-arrow:before {content: \"▸\";float: left;margin-right: 0.25em;color: #696969;}#sk-container-id-1 label.sk-toggleable__label-arrow:hover:before {color: black;}#sk-container-id-1 div.sk-estimator:hover label.sk-toggleable__label-arrow:before {color: black;}#sk-container-id-1 div.sk-toggleable__content {max-height: 0;max-width: 0;overflow: hidden;text-align: left;background-color: #f0f8ff;}#sk-container-id-1 div.sk-toggleable__content pre {margin: 0.2em;color: black;border-radius: 0.25em;background-color: #f0f8ff;}#sk-container-id-1 input.sk-toggleable__control:checked~div.sk-toggleable__content {max-height: 200px;max-width: 100%;overflow: auto;}#sk-container-id-1 input.sk-toggleable__control:checked~label.sk-toggleable__label-arrow:before {content: \"▾\";}#sk-container-id-1 div.sk-estimator input.sk-toggleable__control:checked~label.sk-toggleable__label {background-color: #d4ebff;}#sk-container-id-1 div.sk-label input.sk-toggleable__control:checked~label.sk-toggleable__label {background-color: #d4ebff;}#sk-container-id-1 input.sk-hidden--visually {border: 0;clip: rect(1px 1px 1px 1px);clip: rect(1px, 1px, 1px, 1px);height: 1px;margin: -1px;overflow: hidden;padding: 0;position: absolute;width: 1px;}#sk-container-id-1 div.sk-estimator {font-family: monospace;background-color: #f0f8ff;border: 1px dotted black;border-radius: 0.25em;box-sizing: border-box;margin-bottom: 0.5em;}#sk-container-id-1 div.sk-estimator:hover {background-color: #d4ebff;}#sk-container-id-1 div.sk-parallel-item::after {content: \"\";width: 100%;border-bottom: 1px solid gray;flex-grow: 1;}#sk-container-id-1 div.sk-label:hover label.sk-toggleable__label {background-color: #d4ebff;}#sk-container-id-1 div.sk-serial::before {content: \"\";position: absolute;border-left: 1px solid gray;box-sizing: border-box;top: 0;bottom: 0;left: 50%;z-index: 0;}#sk-container-id-1 div.sk-serial {display: flex;flex-direction: column;align-items: center;background-color: white;padding-right: 0.2em;padding-left: 0.2em;position: relative;}#sk-container-id-1 div.sk-item {position: relative;z-index: 1;}#sk-container-id-1 div.sk-parallel {display: flex;align-items: stretch;justify-content: center;background-color: white;position: relative;}#sk-container-id-1 div.sk-item::before, #sk-container-id-1 div.sk-parallel-item::before {content: \"\";position: absolute;border-left: 1px solid gray;box-sizing: border-box;top: 0;bottom: 0;left: 50%;z-index: -1;}#sk-container-id-1 div.sk-parallel-item {display: flex;flex-direction: column;z-index: 1;position: relative;background-color: white;}#sk-container-id-1 div.sk-parallel-item:first-child::after {align-self: flex-end;width: 50%;}#sk-container-id-1 div.sk-parallel-item:last-child::after {align-self: flex-start;width: 50%;}#sk-container-id-1 div.sk-parallel-item:only-child::after {width: 0;}#sk-container-id-1 div.sk-dashed-wrapped {border: 1px dashed gray;margin: 0 0.4em 0.5em 0.4em;box-sizing: border-box;padding-bottom: 0.4em;background-color: white;}#sk-container-id-1 div.sk-label label {font-family: monospace;font-weight: bold;display: inline-block;line-height: 1.2em;}#sk-container-id-1 div.sk-label-container {text-align: center;}#sk-container-id-1 div.sk-container {/* jupyter's `normalize.less` sets `[hidden] { display: none; }` but bootstrap.min.css set `[hidden] { display: none !important; }` so we also need the `!important` here to be able to override the default hidden behavior on the sphinx rendered scikit-learn.org. See: https://github.com/scikit-learn/scikit-learn/issues/21755 */display: inline-block !important;position: relative;}#sk-container-id-1 div.sk-text-repr-fallback {display: none;}</style><div id=\"sk-container-id-1\" class=\"sk-top-container\"><div class=\"sk-text-repr-fallback\"><pre>LogisticRegression()</pre><b>In a Jupyter environment, please rerun this cell to show the HTML representation or trust the notebook. <br />On GitHub, the HTML representation is unable to render, please try loading this page with nbviewer.org.</b></div><div class=\"sk-container\" hidden><div class=\"sk-item\"><div class=\"sk-estimator sk-toggleable\"><input class=\"sk-toggleable__control sk-hidden--visually\" id=\"sk-estimator-id-1\" type=\"checkbox\" checked><label for=\"sk-estimator-id-1\" class=\"sk-toggleable__label sk-toggleable__label-arrow\">LogisticRegression</label><div class=\"sk-toggleable__content\"><pre>LogisticRegression()</pre></div></div></div></div></div>"
      ],
      "text/plain": [
       "LogisticRegression()"
      ]
     },
     "execution_count": 16,
     "metadata": {},
     "output_type": "execute_result"
    }
   ],
   "source": [
    "lr.fit(x_train , y_train)"
   ]
  },
  {
   "cell_type": "code",
   "execution_count": 17,
   "id": "b3ea56af",
   "metadata": {
    "execution": {
     "iopub.execute_input": "2025-08-04T03:26:46.216782Z",
     "iopub.status.busy": "2025-08-04T03:26:46.216427Z",
     "iopub.status.idle": "2025-08-04T03:26:46.224727Z",
     "shell.execute_reply": "2025-08-04T03:26:46.223769Z"
    },
    "papermill": {
     "duration": 0.022027,
     "end_time": "2025-08-04T03:26:46.227052",
     "exception": false,
     "start_time": "2025-08-04T03:26:46.205025",
     "status": "completed"
    },
    "tags": []
   },
   "outputs": [],
   "source": [
    "y_pred = lr.predict(x_test)"
   ]
  },
  {
   "cell_type": "code",
   "execution_count": 18,
   "id": "a7bcceba",
   "metadata": {
    "execution": {
     "iopub.execute_input": "2025-08-04T03:26:46.249497Z",
     "iopub.status.busy": "2025-08-04T03:26:46.249147Z",
     "iopub.status.idle": "2025-08-04T03:26:46.254762Z",
     "shell.execute_reply": "2025-08-04T03:26:46.253827Z"
    },
    "papermill": {
     "duration": 0.018522,
     "end_time": "2025-08-04T03:26:46.256689",
     "exception": false,
     "start_time": "2025-08-04T03:26:46.238167",
     "status": "completed"
    },
    "tags": []
   },
   "outputs": [],
   "source": [
    "from sklearn.metrics import accuracy_score"
   ]
  },
  {
   "cell_type": "code",
   "execution_count": 19,
   "id": "259c4aff",
   "metadata": {
    "execution": {
     "iopub.execute_input": "2025-08-04T03:26:46.279633Z",
     "iopub.status.busy": "2025-08-04T03:26:46.279267Z",
     "iopub.status.idle": "2025-08-04T03:26:46.291164Z",
     "shell.execute_reply": "2025-08-04T03:26:46.290239Z"
    },
    "papermill": {
     "duration": 0.02657,
     "end_time": "2025-08-04T03:26:46.293180",
     "exception": false,
     "start_time": "2025-08-04T03:26:46.266610",
     "status": "completed"
    },
    "tags": []
   },
   "outputs": [
    {
     "data": {
      "text/plain": [
       "0.5"
      ]
     },
     "execution_count": 19,
     "metadata": {},
     "output_type": "execute_result"
    }
   ],
   "source": [
    "accuracy_score(y_test , y_pred)"
   ]
  },
  {
   "cell_type": "markdown",
   "id": "274e011a",
   "metadata": {
    "papermill": {
     "duration": 0.006006,
     "end_time": "2025-08-04T03:26:46.306273",
     "exception": false,
     "start_time": "2025-08-04T03:26:46.300267",
     "status": "completed"
    },
    "tags": []
   },
   "source": [
    "# Random forest"
   ]
  },
  {
   "cell_type": "code",
   "execution_count": 20,
   "id": "04c189be",
   "metadata": {
    "execution": {
     "iopub.execute_input": "2025-08-04T03:26:46.320225Z",
     "iopub.status.busy": "2025-08-04T03:26:46.319927Z",
     "iopub.status.idle": "2025-08-04T03:26:46.660739Z",
     "shell.execute_reply": "2025-08-04T03:26:46.659291Z"
    },
    "papermill": {
     "duration": 0.349937,
     "end_time": "2025-08-04T03:26:46.662574",
     "exception": false,
     "start_time": "2025-08-04T03:26:46.312637",
     "status": "completed"
    },
    "tags": []
   },
   "outputs": [],
   "source": [
    "from sklearn.ensemble import RandomForestClassifier"
   ]
  },
  {
   "cell_type": "code",
   "execution_count": 21,
   "id": "6f6582af",
   "metadata": {
    "execution": {
     "iopub.execute_input": "2025-08-04T03:26:46.677228Z",
     "iopub.status.busy": "2025-08-04T03:26:46.676885Z",
     "iopub.status.idle": "2025-08-04T03:26:46.682173Z",
     "shell.execute_reply": "2025-08-04T03:26:46.681092Z"
    },
    "papermill": {
     "duration": 0.014789,
     "end_time": "2025-08-04T03:26:46.683995",
     "exception": false,
     "start_time": "2025-08-04T03:26:46.669206",
     "status": "completed"
    },
    "tags": []
   },
   "outputs": [],
   "source": [
    "rf = RandomForestClassifier()"
   ]
  },
  {
   "cell_type": "code",
   "execution_count": 22,
   "id": "f5f0e054",
   "metadata": {
    "execution": {
     "iopub.execute_input": "2025-08-04T03:26:46.700311Z",
     "iopub.status.busy": "2025-08-04T03:26:46.699230Z",
     "iopub.status.idle": "2025-08-04T03:26:46.892291Z",
     "shell.execute_reply": "2025-08-04T03:26:46.890599Z"
    },
    "papermill": {
     "duration": 0.202589,
     "end_time": "2025-08-04T03:26:46.894132",
     "exception": false,
     "start_time": "2025-08-04T03:26:46.691543",
     "status": "completed"
    },
    "tags": []
   },
   "outputs": [
    {
     "data": {
      "text/html": [
       "<style>#sk-container-id-2 {color: black;background-color: white;}#sk-container-id-2 pre{padding: 0;}#sk-container-id-2 div.sk-toggleable {background-color: white;}#sk-container-id-2 label.sk-toggleable__label {cursor: pointer;display: block;width: 100%;margin-bottom: 0;padding: 0.3em;box-sizing: border-box;text-align: center;}#sk-container-id-2 label.sk-toggleable__label-arrow:before {content: \"▸\";float: left;margin-right: 0.25em;color: #696969;}#sk-container-id-2 label.sk-toggleable__label-arrow:hover:before {color: black;}#sk-container-id-2 div.sk-estimator:hover label.sk-toggleable__label-arrow:before {color: black;}#sk-container-id-2 div.sk-toggleable__content {max-height: 0;max-width: 0;overflow: hidden;text-align: left;background-color: #f0f8ff;}#sk-container-id-2 div.sk-toggleable__content pre {margin: 0.2em;color: black;border-radius: 0.25em;background-color: #f0f8ff;}#sk-container-id-2 input.sk-toggleable__control:checked~div.sk-toggleable__content {max-height: 200px;max-width: 100%;overflow: auto;}#sk-container-id-2 input.sk-toggleable__control:checked~label.sk-toggleable__label-arrow:before {content: \"▾\";}#sk-container-id-2 div.sk-estimator input.sk-toggleable__control:checked~label.sk-toggleable__label {background-color: #d4ebff;}#sk-container-id-2 div.sk-label input.sk-toggleable__control:checked~label.sk-toggleable__label {background-color: #d4ebff;}#sk-container-id-2 input.sk-hidden--visually {border: 0;clip: rect(1px 1px 1px 1px);clip: rect(1px, 1px, 1px, 1px);height: 1px;margin: -1px;overflow: hidden;padding: 0;position: absolute;width: 1px;}#sk-container-id-2 div.sk-estimator {font-family: monospace;background-color: #f0f8ff;border: 1px dotted black;border-radius: 0.25em;box-sizing: border-box;margin-bottom: 0.5em;}#sk-container-id-2 div.sk-estimator:hover {background-color: #d4ebff;}#sk-container-id-2 div.sk-parallel-item::after {content: \"\";width: 100%;border-bottom: 1px solid gray;flex-grow: 1;}#sk-container-id-2 div.sk-label:hover label.sk-toggleable__label {background-color: #d4ebff;}#sk-container-id-2 div.sk-serial::before {content: \"\";position: absolute;border-left: 1px solid gray;box-sizing: border-box;top: 0;bottom: 0;left: 50%;z-index: 0;}#sk-container-id-2 div.sk-serial {display: flex;flex-direction: column;align-items: center;background-color: white;padding-right: 0.2em;padding-left: 0.2em;position: relative;}#sk-container-id-2 div.sk-item {position: relative;z-index: 1;}#sk-container-id-2 div.sk-parallel {display: flex;align-items: stretch;justify-content: center;background-color: white;position: relative;}#sk-container-id-2 div.sk-item::before, #sk-container-id-2 div.sk-parallel-item::before {content: \"\";position: absolute;border-left: 1px solid gray;box-sizing: border-box;top: 0;bottom: 0;left: 50%;z-index: -1;}#sk-container-id-2 div.sk-parallel-item {display: flex;flex-direction: column;z-index: 1;position: relative;background-color: white;}#sk-container-id-2 div.sk-parallel-item:first-child::after {align-self: flex-end;width: 50%;}#sk-container-id-2 div.sk-parallel-item:last-child::after {align-self: flex-start;width: 50%;}#sk-container-id-2 div.sk-parallel-item:only-child::after {width: 0;}#sk-container-id-2 div.sk-dashed-wrapped {border: 1px dashed gray;margin: 0 0.4em 0.5em 0.4em;box-sizing: border-box;padding-bottom: 0.4em;background-color: white;}#sk-container-id-2 div.sk-label label {font-family: monospace;font-weight: bold;display: inline-block;line-height: 1.2em;}#sk-container-id-2 div.sk-label-container {text-align: center;}#sk-container-id-2 div.sk-container {/* jupyter's `normalize.less` sets `[hidden] { display: none; }` but bootstrap.min.css set `[hidden] { display: none !important; }` so we also need the `!important` here to be able to override the default hidden behavior on the sphinx rendered scikit-learn.org. See: https://github.com/scikit-learn/scikit-learn/issues/21755 */display: inline-block !important;position: relative;}#sk-container-id-2 div.sk-text-repr-fallback {display: none;}</style><div id=\"sk-container-id-2\" class=\"sk-top-container\"><div class=\"sk-text-repr-fallback\"><pre>RandomForestClassifier()</pre><b>In a Jupyter environment, please rerun this cell to show the HTML representation or trust the notebook. <br />On GitHub, the HTML representation is unable to render, please try loading this page with nbviewer.org.</b></div><div class=\"sk-container\" hidden><div class=\"sk-item\"><div class=\"sk-estimator sk-toggleable\"><input class=\"sk-toggleable__control sk-hidden--visually\" id=\"sk-estimator-id-2\" type=\"checkbox\" checked><label for=\"sk-estimator-id-2\" class=\"sk-toggleable__label sk-toggleable__label-arrow\">RandomForestClassifier</label><div class=\"sk-toggleable__content\"><pre>RandomForestClassifier()</pre></div></div></div></div></div>"
      ],
      "text/plain": [
       "RandomForestClassifier()"
      ]
     },
     "execution_count": 22,
     "metadata": {},
     "output_type": "execute_result"
    }
   ],
   "source": [
    "rf.fit(x_train , y_train)"
   ]
  },
  {
   "cell_type": "code",
   "execution_count": 23,
   "id": "933da7f5",
   "metadata": {
    "execution": {
     "iopub.execute_input": "2025-08-04T03:26:46.909539Z",
     "iopub.status.busy": "2025-08-04T03:26:46.909192Z",
     "iopub.status.idle": "2025-08-04T03:26:46.922864Z",
     "shell.execute_reply": "2025-08-04T03:26:46.921883Z"
    },
    "papermill": {
     "duration": 0.024251,
     "end_time": "2025-08-04T03:26:46.925266",
     "exception": false,
     "start_time": "2025-08-04T03:26:46.901015",
     "status": "completed"
    },
    "tags": []
   },
   "outputs": [],
   "source": [
    "y_pred = rf.predict(x_test)"
   ]
  },
  {
   "cell_type": "code",
   "execution_count": 24,
   "id": "ec8a8e0b",
   "metadata": {
    "execution": {
     "iopub.execute_input": "2025-08-04T03:26:46.939516Z",
     "iopub.status.busy": "2025-08-04T03:26:46.939173Z",
     "iopub.status.idle": "2025-08-04T03:26:46.943934Z",
     "shell.execute_reply": "2025-08-04T03:26:46.942546Z"
    },
    "papermill": {
     "duration": 0.013894,
     "end_time": "2025-08-04T03:26:46.945710",
     "exception": false,
     "start_time": "2025-08-04T03:26:46.931816",
     "status": "completed"
    },
    "tags": []
   },
   "outputs": [],
   "source": [
    "from sklearn.metrics import accuracy_score"
   ]
  },
  {
   "cell_type": "code",
   "execution_count": 25,
   "id": "4005c8ee",
   "metadata": {
    "execution": {
     "iopub.execute_input": "2025-08-04T03:26:46.959607Z",
     "iopub.status.busy": "2025-08-04T03:26:46.959252Z",
     "iopub.status.idle": "2025-08-04T03:26:46.966323Z",
     "shell.execute_reply": "2025-08-04T03:26:46.965597Z"
    },
    "papermill": {
     "duration": 0.016197,
     "end_time": "2025-08-04T03:26:46.968328",
     "exception": false,
     "start_time": "2025-08-04T03:26:46.952131",
     "status": "completed"
    },
    "tags": []
   },
   "outputs": [
    {
     "data": {
      "text/plain": [
       "0.5625"
      ]
     },
     "execution_count": 25,
     "metadata": {},
     "output_type": "execute_result"
    }
   ],
   "source": [
    "accuracy_score(y_test , y_pred)"
   ]
  },
  {
   "cell_type": "code",
   "execution_count": 26,
   "id": "fc970044",
   "metadata": {
    "execution": {
     "iopub.execute_input": "2025-08-04T03:26:46.982964Z",
     "iopub.status.busy": "2025-08-04T03:26:46.982676Z",
     "iopub.status.idle": "2025-08-04T03:26:46.999315Z",
     "shell.execute_reply": "2025-08-04T03:26:46.998188Z"
    },
    "papermill": {
     "duration": 0.026456,
     "end_time": "2025-08-04T03:26:47.001251",
     "exception": false,
     "start_time": "2025-08-04T03:26:46.974795",
     "status": "completed"
    },
    "tags": []
   },
   "outputs": [],
   "source": [
    "from sklearn.naive_bayes import GaussianNB\n",
    "classifier = GaussianNB()"
   ]
  },
  {
   "cell_type": "code",
   "execution_count": 27,
   "id": "b1a2d099",
   "metadata": {
    "execution": {
     "iopub.execute_input": "2025-08-04T03:26:47.016689Z",
     "iopub.status.busy": "2025-08-04T03:26:47.016325Z",
     "iopub.status.idle": "2025-08-04T03:26:47.026164Z",
     "shell.execute_reply": "2025-08-04T03:26:47.025047Z"
    },
    "papermill": {
     "duration": 0.019352,
     "end_time": "2025-08-04T03:26:47.027919",
     "exception": false,
     "start_time": "2025-08-04T03:26:47.008567",
     "status": "completed"
    },
    "tags": []
   },
   "outputs": [
    {
     "data": {
      "text/html": [
       "<style>#sk-container-id-3 {color: black;background-color: white;}#sk-container-id-3 pre{padding: 0;}#sk-container-id-3 div.sk-toggleable {background-color: white;}#sk-container-id-3 label.sk-toggleable__label {cursor: pointer;display: block;width: 100%;margin-bottom: 0;padding: 0.3em;box-sizing: border-box;text-align: center;}#sk-container-id-3 label.sk-toggleable__label-arrow:before {content: \"▸\";float: left;margin-right: 0.25em;color: #696969;}#sk-container-id-3 label.sk-toggleable__label-arrow:hover:before {color: black;}#sk-container-id-3 div.sk-estimator:hover label.sk-toggleable__label-arrow:before {color: black;}#sk-container-id-3 div.sk-toggleable__content {max-height: 0;max-width: 0;overflow: hidden;text-align: left;background-color: #f0f8ff;}#sk-container-id-3 div.sk-toggleable__content pre {margin: 0.2em;color: black;border-radius: 0.25em;background-color: #f0f8ff;}#sk-container-id-3 input.sk-toggleable__control:checked~div.sk-toggleable__content {max-height: 200px;max-width: 100%;overflow: auto;}#sk-container-id-3 input.sk-toggleable__control:checked~label.sk-toggleable__label-arrow:before {content: \"▾\";}#sk-container-id-3 div.sk-estimator input.sk-toggleable__control:checked~label.sk-toggleable__label {background-color: #d4ebff;}#sk-container-id-3 div.sk-label input.sk-toggleable__control:checked~label.sk-toggleable__label {background-color: #d4ebff;}#sk-container-id-3 input.sk-hidden--visually {border: 0;clip: rect(1px 1px 1px 1px);clip: rect(1px, 1px, 1px, 1px);height: 1px;margin: -1px;overflow: hidden;padding: 0;position: absolute;width: 1px;}#sk-container-id-3 div.sk-estimator {font-family: monospace;background-color: #f0f8ff;border: 1px dotted black;border-radius: 0.25em;box-sizing: border-box;margin-bottom: 0.5em;}#sk-container-id-3 div.sk-estimator:hover {background-color: #d4ebff;}#sk-container-id-3 div.sk-parallel-item::after {content: \"\";width: 100%;border-bottom: 1px solid gray;flex-grow: 1;}#sk-container-id-3 div.sk-label:hover label.sk-toggleable__label {background-color: #d4ebff;}#sk-container-id-3 div.sk-serial::before {content: \"\";position: absolute;border-left: 1px solid gray;box-sizing: border-box;top: 0;bottom: 0;left: 50%;z-index: 0;}#sk-container-id-3 div.sk-serial {display: flex;flex-direction: column;align-items: center;background-color: white;padding-right: 0.2em;padding-left: 0.2em;position: relative;}#sk-container-id-3 div.sk-item {position: relative;z-index: 1;}#sk-container-id-3 div.sk-parallel {display: flex;align-items: stretch;justify-content: center;background-color: white;position: relative;}#sk-container-id-3 div.sk-item::before, #sk-container-id-3 div.sk-parallel-item::before {content: \"\";position: absolute;border-left: 1px solid gray;box-sizing: border-box;top: 0;bottom: 0;left: 50%;z-index: -1;}#sk-container-id-3 div.sk-parallel-item {display: flex;flex-direction: column;z-index: 1;position: relative;background-color: white;}#sk-container-id-3 div.sk-parallel-item:first-child::after {align-self: flex-end;width: 50%;}#sk-container-id-3 div.sk-parallel-item:last-child::after {align-self: flex-start;width: 50%;}#sk-container-id-3 div.sk-parallel-item:only-child::after {width: 0;}#sk-container-id-3 div.sk-dashed-wrapped {border: 1px dashed gray;margin: 0 0.4em 0.5em 0.4em;box-sizing: border-box;padding-bottom: 0.4em;background-color: white;}#sk-container-id-3 div.sk-label label {font-family: monospace;font-weight: bold;display: inline-block;line-height: 1.2em;}#sk-container-id-3 div.sk-label-container {text-align: center;}#sk-container-id-3 div.sk-container {/* jupyter's `normalize.less` sets `[hidden] { display: none; }` but bootstrap.min.css set `[hidden] { display: none !important; }` so we also need the `!important` here to be able to override the default hidden behavior on the sphinx rendered scikit-learn.org. See: https://github.com/scikit-learn/scikit-learn/issues/21755 */display: inline-block !important;position: relative;}#sk-container-id-3 div.sk-text-repr-fallback {display: none;}</style><div id=\"sk-container-id-3\" class=\"sk-top-container\"><div class=\"sk-text-repr-fallback\"><pre>GaussianNB()</pre><b>In a Jupyter environment, please rerun this cell to show the HTML representation or trust the notebook. <br />On GitHub, the HTML representation is unable to render, please try loading this page with nbviewer.org.</b></div><div class=\"sk-container\" hidden><div class=\"sk-item\"><div class=\"sk-estimator sk-toggleable\"><input class=\"sk-toggleable__control sk-hidden--visually\" id=\"sk-estimator-id-3\" type=\"checkbox\" checked><label for=\"sk-estimator-id-3\" class=\"sk-toggleable__label sk-toggleable__label-arrow\">GaussianNB</label><div class=\"sk-toggleable__content\"><pre>GaussianNB()</pre></div></div></div></div></div>"
      ],
      "text/plain": [
       "GaussianNB()"
      ]
     },
     "execution_count": 27,
     "metadata": {},
     "output_type": "execute_result"
    }
   ],
   "source": [
    "classifier.fit(x_train , y_train)"
   ]
  },
  {
   "cell_type": "code",
   "execution_count": 28,
   "id": "0544dcb9",
   "metadata": {
    "execution": {
     "iopub.execute_input": "2025-08-04T03:26:47.043436Z",
     "iopub.status.busy": "2025-08-04T03:26:47.043132Z",
     "iopub.status.idle": "2025-08-04T03:26:47.061179Z",
     "shell.execute_reply": "2025-08-04T03:26:47.060119Z"
    },
    "papermill": {
     "duration": 0.027638,
     "end_time": "2025-08-04T03:26:47.062780",
     "exception": false,
     "start_time": "2025-08-04T03:26:47.035142",
     "status": "completed"
    },
    "tags": []
   },
   "outputs": [],
   "source": [
    "y_pred = classifier.predict(x_test)"
   ]
  },
  {
   "cell_type": "code",
   "execution_count": 29,
   "id": "6019fc37",
   "metadata": {
    "execution": {
     "iopub.execute_input": "2025-08-04T03:26:47.079078Z",
     "iopub.status.busy": "2025-08-04T03:26:47.078727Z",
     "iopub.status.idle": "2025-08-04T03:26:47.085251Z",
     "shell.execute_reply": "2025-08-04T03:26:47.084325Z"
    },
    "papermill": {
     "duration": 0.01695,
     "end_time": "2025-08-04T03:26:47.086927",
     "exception": false,
     "start_time": "2025-08-04T03:26:47.069977",
     "status": "completed"
    },
    "tags": []
   },
   "outputs": [
    {
     "data": {
      "text/plain": [
       "array([0, 0, 0, 0, 0, 1, 1, 1, 0, 1, 1, 1, 0, 0, 0, 0, 1, 0, 1, 0, 1, 0,\n",
       "       0, 0, 0, 1, 1, 0, 1, 1, 1, 1, 1, 1, 1, 0, 0, 1, 0, 1, 1, 1, 0, 1,\n",
       "       1, 0, 0, 1, 0, 0, 1, 0, 1, 0, 1, 1, 1, 0, 1, 1, 0, 0, 1, 0, 1, 1,\n",
       "       0, 0, 0, 1, 0, 0, 1, 1, 1, 0, 0, 0, 1, 1])"
      ]
     },
     "execution_count": 29,
     "metadata": {},
     "output_type": "execute_result"
    }
   ],
   "source": [
    "y_pred"
   ]
  },
  {
   "cell_type": "code",
   "execution_count": 30,
   "id": "c63bf906",
   "metadata": {
    "execution": {
     "iopub.execute_input": "2025-08-04T03:26:47.102311Z",
     "iopub.status.busy": "2025-08-04T03:26:47.101994Z",
     "iopub.status.idle": "2025-08-04T03:26:47.106794Z",
     "shell.execute_reply": "2025-08-04T03:26:47.105491Z"
    },
    "papermill": {
     "duration": 0.014208,
     "end_time": "2025-08-04T03:26:47.108341",
     "exception": false,
     "start_time": "2025-08-04T03:26:47.094133",
     "status": "completed"
    },
    "tags": []
   },
   "outputs": [],
   "source": [
    "from sklearn.metrics import confusion_matrix"
   ]
  },
  {
   "cell_type": "code",
   "execution_count": 31,
   "id": "2c955c24",
   "metadata": {
    "execution": {
     "iopub.execute_input": "2025-08-04T03:26:47.123513Z",
     "iopub.status.busy": "2025-08-04T03:26:47.123173Z",
     "iopub.status.idle": "2025-08-04T03:26:47.131177Z",
     "shell.execute_reply": "2025-08-04T03:26:47.130302Z"
    },
    "papermill": {
     "duration": 0.01756,
     "end_time": "2025-08-04T03:26:47.132812",
     "exception": false,
     "start_time": "2025-08-04T03:26:47.115252",
     "status": "completed"
    },
    "tags": []
   },
   "outputs": [],
   "source": [
    "cn = confusion_matrix(y_test , y_pred)"
   ]
  },
  {
   "cell_type": "code",
   "execution_count": 32,
   "id": "155f1d57",
   "metadata": {
    "execution": {
     "iopub.execute_input": "2025-08-04T03:26:47.148241Z",
     "iopub.status.busy": "2025-08-04T03:26:47.147951Z",
     "iopub.status.idle": "2025-08-04T03:26:47.153915Z",
     "shell.execute_reply": "2025-08-04T03:26:47.153108Z"
    },
    "papermill": {
     "duration": 0.015465,
     "end_time": "2025-08-04T03:26:47.155330",
     "exception": false,
     "start_time": "2025-08-04T03:26:47.139865",
     "status": "completed"
    },
    "tags": []
   },
   "outputs": [
    {
     "data": {
      "text/plain": [
       "array([[26, 19],\n",
       "       [13, 22]])"
      ]
     },
     "execution_count": 32,
     "metadata": {},
     "output_type": "execute_result"
    }
   ],
   "source": [
    "cn"
   ]
  },
  {
   "cell_type": "code",
   "execution_count": 33,
   "id": "6043adf9",
   "metadata": {
    "execution": {
     "iopub.execute_input": "2025-08-04T03:26:47.171075Z",
     "iopub.status.busy": "2025-08-04T03:26:47.170696Z",
     "iopub.status.idle": "2025-08-04T03:26:47.175388Z",
     "shell.execute_reply": "2025-08-04T03:26:47.174446Z"
    },
    "papermill": {
     "duration": 0.014241,
     "end_time": "2025-08-04T03:26:47.176846",
     "exception": false,
     "start_time": "2025-08-04T03:26:47.162605",
     "status": "completed"
    },
    "tags": []
   },
   "outputs": [],
   "source": [
    "from sklearn.metrics import accuracy_score"
   ]
  },
  {
   "cell_type": "code",
   "execution_count": 34,
   "id": "31cb7cf2",
   "metadata": {
    "execution": {
     "iopub.execute_input": "2025-08-04T03:26:47.192292Z",
     "iopub.status.busy": "2025-08-04T03:26:47.191934Z",
     "iopub.status.idle": "2025-08-04T03:26:47.199799Z",
     "shell.execute_reply": "2025-08-04T03:26:47.198761Z"
    },
    "papermill": {
     "duration": 0.017167,
     "end_time": "2025-08-04T03:26:47.201438",
     "exception": false,
     "start_time": "2025-08-04T03:26:47.184271",
     "status": "completed"
    },
    "tags": []
   },
   "outputs": [
    {
     "data": {
      "text/plain": [
       "0.6"
      ]
     },
     "execution_count": 34,
     "metadata": {},
     "output_type": "execute_result"
    }
   ],
   "source": [
    "accuracy_score(y_test , y_pred)"
   ]
  }
 ],
 "metadata": {
  "kaggle": {
   "accelerator": "none",
   "dataSources": [
    {
     "datasetId": 8003034,
     "sourceId": 12664307,
     "sourceType": "datasetVersion"
    }
   ],
   "dockerImageVersionId": 31089,
   "isGpuEnabled": false,
   "isInternetEnabled": false,
   "language": "python",
   "sourceType": "notebook"
  },
  "kernelspec": {
   "display_name": "Python 3",
   "language": "python",
   "name": "python3"
  },
  "language_info": {
   "codemirror_mode": {
    "name": "ipython",
    "version": 3
   },
   "file_extension": ".py",
   "mimetype": "text/x-python",
   "name": "python",
   "nbconvert_exporter": "python",
   "pygments_lexer": "ipython3",
   "version": "3.11.13"
  },
  "papermill": {
   "default_parameters": {},
   "duration": 11.289362,
   "end_time": "2025-08-04T03:26:48.031672",
   "environment_variables": {},
   "exception": null,
   "input_path": "__notebook__.ipynb",
   "output_path": "__notebook__.ipynb",
   "parameters": {},
   "start_time": "2025-08-04T03:26:36.742310",
   "version": "2.6.0"
  }
 },
 "nbformat": 4,
 "nbformat_minor": 5
}
